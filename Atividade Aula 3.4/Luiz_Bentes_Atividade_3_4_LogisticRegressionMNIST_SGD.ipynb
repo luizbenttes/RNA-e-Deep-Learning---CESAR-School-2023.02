{
  "cells": [
    {
      "cell_type": "markdown",
      "metadata": {
        "id": "gbTOc6cbl-eq"
      },
      "source": [
        "# Regressão Softmax com dados do MNIST utilizando gradiente descendente estocástico por minibatches"
      ]
    },
    {
      "cell_type": "markdown",
      "metadata": {
        "id": "C-IK0yRml-er"
      },
      "source": [
        "O objetivo deste notebook é ilustrar\n",
        "- o uso do gradiente estocástico por mini-batchs\n",
        "- utilizando as classes Dataset e DataLoater.\n",
        "\n",
        "A apresentação da perda nos gráficos é um pouco diferente da usual, mostrando a perda de cada um dos vários minibatches dentro de cada época, de forma que as épocas são apresentadas com valores fracionários."
      ]
    },
    {
      "cell_type": "markdown",
      "metadata": {
        "id": "mqqDXfr4l-et"
      },
      "source": [
        "## Importação das bibliotecas"
      ]
    },
    {
      "cell_type": "code",
      "execution_count": 1,
      "metadata": {
        "ExecuteTime": {
          "end_time": "2017-11-24T22:39:50.314578Z",
          "start_time": "2017-11-24T22:39:48.904460Z"
        },
        "id": "0Iry5pajl-eu"
      },
      "outputs": [],
      "source": [
        "%matplotlib inline\n",
        "import numpy as np\n",
        "import matplotlib.pyplot as plt\n",
        "\n",
        "import torch\n",
        "from torch.autograd import Variable\n",
        "from torch.utils.data import DataLoader\n",
        "\n",
        "import torchvision\n",
        "from torchvision.datasets import MNIST"
      ]
    },
    {
      "cell_type": "markdown",
      "metadata": {
        "id": "QqgILyIkl-ey"
      },
      "source": [
        "## Dataset e dataloader"
      ]
    },
    {
      "cell_type": "markdown",
      "metadata": {
        "id": "VAMBUN5ol-ez"
      },
      "source": [
        "### Definição do tamanho do minibatch"
      ]
    },
    {
      "cell_type": "code",
      "execution_count": 13,
      "metadata": {
        "ExecuteTime": {
          "end_time": "2017-11-24T22:39:50.323379Z",
          "start_time": "2017-11-24T22:39:50.318024Z"
        },
        "id": "1YGmeZtbl-ez"
      },
      "outputs": [],
      "source": [
        "batch_size = 1500"
      ]
    },
    {
      "cell_type": "markdown",
      "metadata": {
        "id": "3uaaezsvl-e5"
      },
      "source": [
        "### Carregamento, criação dataset e do dataloader"
      ]
    },
    {
      "cell_type": "code",
      "execution_count": 14,
      "metadata": {
        "ExecuteTime": {
          "end_time": "2017-11-24T22:39:50.400325Z",
          "start_time": "2017-11-24T22:39:50.326019Z"
        },
        "colab": {
          "base_uri": "https://localhost:8080/"
        },
        "id": "TRXgajEXl-e6",
        "outputId": "718d63cc-6391-4977-ea7c-724d9052c963"
      },
      "outputs": [
        {
          "output_type": "stream",
          "name": "stdout",
          "text": [
            "Número de minibatches de trenamento: 40\n",
            "\n",
            "Dimensões dos dados de um minibatch: torch.Size([1500, 1, 28, 28])\n",
            "Valores mínimo e máximo dos pixels:  tensor(0.) tensor(1.)\n",
            "Tipo dos dados das imagens:          <class 'torch.Tensor'>\n",
            "Tipo das classes das imagens:        <class 'torch.Tensor'>\n"
          ]
        }
      ],
      "source": [
        "dataset_dir = 'MNIST/'\n",
        "\n",
        "dataset_train = MNIST(dataset_dir, train=True, download=True,\n",
        "                      transform=torchvision.transforms.ToTensor())\n",
        "\n",
        "loader_train = DataLoader(dataset_train, batch_size=batch_size, shuffle=False)\n",
        "\n",
        "print('Número de minibatches de trenamento:', len(loader_train))\n",
        "\n",
        "x_train, y_train = next(iter(loader_train))\n",
        "print(\"\\nDimensões dos dados de um minibatch:\", x_train.size())\n",
        "print(\"Valores mínimo e máximo dos pixels: \", torch.min(x_train), torch.max(x_train))\n",
        "print(\"Tipo dos dados das imagens:         \", type(x_train))\n",
        "print(\"Tipo das classes das imagens:       \", type(y_train))"
      ]
    },
    {
      "cell_type": "markdown",
      "metadata": {
        "id": "Jalws0jHl-fB"
      },
      "source": [
        "### Usando todas as amostras do MNIST\n",
        "\n",
        "Neste exemplo utilizaremos todas as amostras de treinamento."
      ]
    },
    {
      "cell_type": "code",
      "execution_count": 15,
      "metadata": {
        "ExecuteTime": {
          "end_time": "2017-11-24T22:39:50.414117Z",
          "start_time": "2017-11-24T22:39:50.402687Z"
        },
        "colab": {
          "base_uri": "https://localhost:8080/"
        },
        "id": "TnFMMGDKl-fC",
        "outputId": "5000e173-2ff3-48f1-aa21-9a877b81b03c"
      },
      "outputs": [
        {
          "output_type": "stream",
          "name": "stdout",
          "text": [
            "Número de minibatches de treinamento: 40\n"
          ]
        }
      ],
      "source": [
        "print('Número de minibatches de treinamento:', len(loader_train))\n",
        "n_batches_train = len(loader_train)\n",
        "total_samples = dataset_train.train_data.size(0)"
      ]
    },
    {
      "cell_type": "markdown",
      "metadata": {
        "id": "dz6ke_hfl-fF"
      },
      "source": [
        "## Modelo"
      ]
    },
    {
      "cell_type": "code",
      "execution_count": 18,
      "metadata": {
        "ExecuteTime": {
          "end_time": "2017-11-24T22:39:50.422994Z",
          "start_time": "2017-11-24T22:39:50.416568Z"
        },
        "id": "8iCWX43fl-fG"
      },
      "outputs": [],
      "source": [
        "model = torch.nn.Linear(28*28, 10)"
      ]
    },
    {
      "cell_type": "code",
      "execution_count": 19,
      "metadata": {
        "colab": {
          "base_uri": "https://localhost:8080/"
        },
        "id": "GrIFjo18dZ_L",
        "outputId": "c50475cf-0c14-44a9-9f77-27794f9b8e5c"
      },
      "outputs": [
        {
          "output_type": "stream",
          "name": "stdout",
          "text": [
            "torch.Size([1, 784])\n"
          ]
        },
        {
          "output_type": "execute_result",
          "data": {
            "text/plain": [
              "tensor([[ 0.3959,  0.0948,  0.9207, -0.5586, -0.5287, -0.7377,  0.5685,  0.0210,\n",
              "         -0.3617,  0.5760]], grad_fn=<AddmmBackward0>)"
            ]
          },
          "metadata": {},
          "execution_count": 19
        }
      ],
      "source": [
        "x = torch.ones(28*28).reshape(1, 784)\n",
        "print(x.shape)\n",
        "predict = model(x)\n",
        "predict"
      ]
    },
    {
      "cell_type": "markdown",
      "metadata": {
        "id": "kVDFEZBql-fJ"
      },
      "source": [
        "## Treinamento"
      ]
    },
    {
      "cell_type": "markdown",
      "metadata": {
        "id": "OUAeuSK6l-fJ"
      },
      "source": [
        "### Inicialização dos parâmetros"
      ]
    },
    {
      "cell_type": "code",
      "execution_count": 20,
      "metadata": {
        "ExecuteTime": {
          "end_time": "2017-11-24T22:39:50.433321Z",
          "start_time": "2017-11-24T22:39:50.426167Z"
        },
        "id": "XT5_fSiQl-fK"
      },
      "outputs": [],
      "source": [
        "n_epochs = 5\n",
        "learningRate = 0.5\n",
        "\n",
        "# Utilizaremos CrossEntropyLoss como função de perda\n",
        "criterion = torch.nn.CrossEntropyLoss()\n",
        "\n",
        "# Gradiente descendente\n",
        "optimizer = torch.optim.SGD(model.parameters(), lr=learningRate)"
      ]
    },
    {
      "cell_type": "markdown",
      "metadata": {
        "id": "-OM9OWI6l-fN"
      },
      "source": [
        "### Laço de treinamento dos parâmetros"
      ]
    },
    {
      "cell_type": "code",
      "execution_count": 21,
      "metadata": {
        "ExecuteTime": {
          "end_time": "2017-11-24T22:39:50.984972Z",
          "start_time": "2017-11-24T22:39:50.435673Z"
        },
        "id": "JvNVUUFTl-fQ",
        "colab": {
          "base_uri": "https://localhost:8080/"
        },
        "outputId": "40ba2be5-3857-4b1f-87e9-fb5a595fdfea"
      },
      "outputs": [
        {
          "output_type": "stream",
          "name": "stdout",
          "text": [
            "Época: 0/4, batch: 0/40\n",
            "Época: 0/4, batch: 1/40\n",
            "Época: 0/4, batch: 2/40\n",
            "Época: 0/4, batch: 3/40\n",
            "Época: 0/4, batch: 4/40\n",
            "Época: 0/4, batch: 5/40\n",
            "Época: 0/4, batch: 6/40\n",
            "Época: 0/4, batch: 7/40\n",
            "Época: 0/4, batch: 8/40\n",
            "Época: 0/4, batch: 9/40\n",
            "Época: 0/4, batch: 10/40\n",
            "Época: 0/4, batch: 11/40\n",
            "Época: 0/4, batch: 12/40\n",
            "Época: 0/4, batch: 13/40\n",
            "Época: 0/4, batch: 14/40\n",
            "Época: 0/4, batch: 15/40\n",
            "Época: 0/4, batch: 16/40\n",
            "Época: 0/4, batch: 17/40\n",
            "Época: 0/4, batch: 18/40\n",
            "Época: 0/4, batch: 19/40\n",
            "Época: 0/4, batch: 20/40\n",
            "Época: 0/4, batch: 21/40\n",
            "Época: 0/4, batch: 22/40\n",
            "Época: 0/4, batch: 23/40\n",
            "Época: 0/4, batch: 24/40\n",
            "Época: 0/4, batch: 25/40\n",
            "Época: 0/4, batch: 26/40\n",
            "Época: 0/4, batch: 27/40\n",
            "Época: 0/4, batch: 28/40\n",
            "Época: 0/4, batch: 29/40\n",
            "Época: 0/4, batch: 30/40\n",
            "Época: 0/4, batch: 31/40\n",
            "Época: 0/4, batch: 32/40\n",
            "Época: 0/4, batch: 33/40\n",
            "Época: 0/4, batch: 34/40\n",
            "Época: 0/4, batch: 35/40\n",
            "Época: 0/4, batch: 36/40\n",
            "Época: 0/4, batch: 37/40\n",
            "Época: 0/4, batch: 38/40\n",
            "Época: 0/4, batch: 39/40\n",
            "Época: 1/4, batch: 0/40\n",
            "Época: 1/4, batch: 1/40\n",
            "Época: 1/4, batch: 2/40\n",
            "Época: 1/4, batch: 3/40\n",
            "Época: 1/4, batch: 4/40\n",
            "Época: 1/4, batch: 5/40\n",
            "Época: 1/4, batch: 6/40\n",
            "Época: 1/4, batch: 7/40\n",
            "Época: 1/4, batch: 8/40\n",
            "Época: 1/4, batch: 9/40\n",
            "Época: 1/4, batch: 10/40\n",
            "Época: 1/4, batch: 11/40\n",
            "Época: 1/4, batch: 12/40\n",
            "Época: 1/4, batch: 13/40\n",
            "Época: 1/4, batch: 14/40\n",
            "Época: 1/4, batch: 15/40\n",
            "Época: 1/4, batch: 16/40\n",
            "Época: 1/4, batch: 17/40\n",
            "Época: 1/4, batch: 18/40\n",
            "Época: 1/4, batch: 19/40\n",
            "Época: 1/4, batch: 20/40\n",
            "Época: 1/4, batch: 21/40\n",
            "Época: 1/4, batch: 22/40\n",
            "Época: 1/4, batch: 23/40\n",
            "Época: 1/4, batch: 24/40\n",
            "Época: 1/4, batch: 25/40\n",
            "Época: 1/4, batch: 26/40\n",
            "Época: 1/4, batch: 27/40\n",
            "Época: 1/4, batch: 28/40\n",
            "Época: 1/4, batch: 29/40\n",
            "Época: 1/4, batch: 30/40\n",
            "Época: 1/4, batch: 31/40\n",
            "Época: 1/4, batch: 32/40\n",
            "Época: 1/4, batch: 33/40\n",
            "Época: 1/4, batch: 34/40\n",
            "Época: 1/4, batch: 35/40\n",
            "Época: 1/4, batch: 36/40\n",
            "Época: 1/4, batch: 37/40\n",
            "Época: 1/4, batch: 38/40\n",
            "Época: 1/4, batch: 39/40\n",
            "Época: 2/4, batch: 0/40\n",
            "Época: 2/4, batch: 1/40\n",
            "Época: 2/4, batch: 2/40\n",
            "Época: 2/4, batch: 3/40\n",
            "Época: 2/4, batch: 4/40\n",
            "Época: 2/4, batch: 5/40\n",
            "Época: 2/4, batch: 6/40\n",
            "Época: 2/4, batch: 7/40\n",
            "Época: 2/4, batch: 8/40\n",
            "Época: 2/4, batch: 9/40\n",
            "Época: 2/4, batch: 10/40\n",
            "Época: 2/4, batch: 11/40\n",
            "Época: 2/4, batch: 12/40\n",
            "Época: 2/4, batch: 13/40\n",
            "Época: 2/4, batch: 14/40\n",
            "Época: 2/4, batch: 15/40\n",
            "Época: 2/4, batch: 16/40\n",
            "Época: 2/4, batch: 17/40\n",
            "Época: 2/4, batch: 18/40\n",
            "Época: 2/4, batch: 19/40\n",
            "Época: 2/4, batch: 20/40\n",
            "Época: 2/4, batch: 21/40\n",
            "Época: 2/4, batch: 22/40\n",
            "Época: 2/4, batch: 23/40\n",
            "Época: 2/4, batch: 24/40\n",
            "Época: 2/4, batch: 25/40\n",
            "Época: 2/4, batch: 26/40\n",
            "Época: 2/4, batch: 27/40\n",
            "Época: 2/4, batch: 28/40\n",
            "Época: 2/4, batch: 29/40\n",
            "Época: 2/4, batch: 30/40\n",
            "Época: 2/4, batch: 31/40\n",
            "Época: 2/4, batch: 32/40\n",
            "Época: 2/4, batch: 33/40\n",
            "Época: 2/4, batch: 34/40\n",
            "Época: 2/4, batch: 35/40\n",
            "Época: 2/4, batch: 36/40\n",
            "Época: 2/4, batch: 37/40\n",
            "Época: 2/4, batch: 38/40\n",
            "Época: 2/4, batch: 39/40\n",
            "Época: 3/4, batch: 0/40\n",
            "Época: 3/4, batch: 1/40\n",
            "Época: 3/4, batch: 2/40\n",
            "Época: 3/4, batch: 3/40\n",
            "Época: 3/4, batch: 4/40\n",
            "Época: 3/4, batch: 5/40\n",
            "Época: 3/4, batch: 6/40\n",
            "Época: 3/4, batch: 7/40\n",
            "Época: 3/4, batch: 8/40\n",
            "Época: 3/4, batch: 9/40\n",
            "Época: 3/4, batch: 10/40\n",
            "Época: 3/4, batch: 11/40\n",
            "Época: 3/4, batch: 12/40\n",
            "Época: 3/4, batch: 13/40\n",
            "Época: 3/4, batch: 14/40\n",
            "Época: 3/4, batch: 15/40\n",
            "Época: 3/4, batch: 16/40\n",
            "Época: 3/4, batch: 17/40\n",
            "Época: 3/4, batch: 18/40\n",
            "Época: 3/4, batch: 19/40\n",
            "Época: 3/4, batch: 20/40\n",
            "Época: 3/4, batch: 21/40\n",
            "Época: 3/4, batch: 22/40\n",
            "Época: 3/4, batch: 23/40\n",
            "Época: 3/4, batch: 24/40\n",
            "Época: 3/4, batch: 25/40\n",
            "Época: 3/4, batch: 26/40\n",
            "Época: 3/4, batch: 27/40\n",
            "Época: 3/4, batch: 28/40\n",
            "Época: 3/4, batch: 29/40\n",
            "Época: 3/4, batch: 30/40\n",
            "Época: 3/4, batch: 31/40\n",
            "Época: 3/4, batch: 32/40\n",
            "Época: 3/4, batch: 33/40\n",
            "Época: 3/4, batch: 34/40\n",
            "Época: 3/4, batch: 35/40\n",
            "Época: 3/4, batch: 36/40\n",
            "Época: 3/4, batch: 37/40\n",
            "Época: 3/4, batch: 38/40\n",
            "Época: 3/4, batch: 39/40\n",
            "Época: 4/4, batch: 0/40\n",
            "Época: 4/4, batch: 1/40\n",
            "Época: 4/4, batch: 2/40\n",
            "Época: 4/4, batch: 3/40\n",
            "Época: 4/4, batch: 4/40\n",
            "Época: 4/4, batch: 5/40\n",
            "Época: 4/4, batch: 6/40\n",
            "Época: 4/4, batch: 7/40\n",
            "Época: 4/4, batch: 8/40\n",
            "Época: 4/4, batch: 9/40\n",
            "Época: 4/4, batch: 10/40\n",
            "Época: 4/4, batch: 11/40\n",
            "Época: 4/4, batch: 12/40\n",
            "Época: 4/4, batch: 13/40\n",
            "Época: 4/4, batch: 14/40\n",
            "Época: 4/4, batch: 15/40\n",
            "Época: 4/4, batch: 16/40\n",
            "Época: 4/4, batch: 17/40\n",
            "Época: 4/4, batch: 18/40\n",
            "Época: 4/4, batch: 19/40\n",
            "Época: 4/4, batch: 20/40\n",
            "Época: 4/4, batch: 21/40\n",
            "Época: 4/4, batch: 22/40\n",
            "Época: 4/4, batch: 23/40\n",
            "Época: 4/4, batch: 24/40\n",
            "Época: 4/4, batch: 25/40\n",
            "Época: 4/4, batch: 26/40\n",
            "Época: 4/4, batch: 27/40\n",
            "Época: 4/4, batch: 28/40\n",
            "Época: 4/4, batch: 29/40\n",
            "Época: 4/4, batch: 30/40\n",
            "Época: 4/4, batch: 31/40\n",
            "Época: 4/4, batch: 32/40\n",
            "Época: 4/4, batch: 33/40\n",
            "Época: 4/4, batch: 34/40\n",
            "Época: 4/4, batch: 35/40\n",
            "Época: 4/4, batch: 36/40\n",
            "Época: 4/4, batch: 37/40\n",
            "Época: 4/4, batch: 38/40\n",
            "Época: 4/4, batch: 39/40\n"
          ]
        }
      ],
      "source": [
        "epochs = []\n",
        "losses = []\n",
        "\n",
        "total_trained_samples = 0\n",
        "for i in range(n_epochs):\n",
        "    for k,(x_train, y_train) in enumerate(loader_train):\n",
        "        # Transforma a entrada para uma dimensão\n",
        "        inputs = Variable(x_train.view(-1, 28 * 28))\n",
        "        # predict da rede\n",
        "        outputs = model(inputs)\n",
        "\n",
        "        # calcula a perda\n",
        "        loss = criterion(outputs, Variable(y_train))\n",
        "\n",
        "        # zero, backpropagation, ajusta parâmetros pelo gradiente descendente\n",
        "        optimizer.zero_grad()\n",
        "        loss.backward()\n",
        "        optimizer.step()\n",
        "\n",
        "        total_trained_samples += x_train.size(0)\n",
        "        epochs.append(total_trained_samples / total_samples)\n",
        "        losses.append(loss.data)\n",
        "        print(f'Época: {i}/{n_epochs - 1}, batch: {k}/{len(loader_train)}')"
      ]
    },
    {
      "cell_type": "markdown",
      "source": [],
      "metadata": {
        "id": "sHM6-XWAb0M4"
      }
    },
    {
      "cell_type": "code",
      "execution_count": 22,
      "metadata": {
        "ExecuteTime": {
          "end_time": "2017-11-24T22:39:50.992302Z",
          "start_time": "2017-11-24T22:39:50.987284Z"
        },
        "colab": {
          "base_uri": "https://localhost:8080/"
        },
        "id": "aYO4bgVwl-fT",
        "outputId": "ab22537d-f384-47cb-beb8-103576d364d5"
      },
      "outputs": [
        {
          "output_type": "stream",
          "name": "stdout",
          "text": [
            "Final loss: tensor(0.2462)\n"
          ]
        }
      ],
      "source": [
        "print('Final loss:', loss.data)"
      ]
    },
    {
      "cell_type": "markdown",
      "metadata": {
        "id": "XEhPdkjAl-fX"
      },
      "source": [
        "### Visualizando gráfico de perda durante o treinamento"
      ]
    },
    {
      "cell_type": "code",
      "execution_count": 23,
      "metadata": {
        "ExecuteTime": {
          "end_time": "2017-11-24T22:39:51.244869Z",
          "start_time": "2017-11-24T22:39:50.995188Z"
        },
        "colab": {
          "base_uri": "https://localhost:8080/",
          "height": 487
        },
        "id": "_fSYP_KXl-fY",
        "outputId": "e59eaf31-d6d9-475a-9652-af27eda7dea7"
      },
      "outputs": [
        {
          "output_type": "execute_result",
          "data": {
            "text/plain": [
              "Text(0.5, 0, 'época')"
            ]
          },
          "metadata": {},
          "execution_count": 23
        },
        {
          "output_type": "display_data",
          "data": {
            "text/plain": [
              "<Figure size 640x480 with 1 Axes>"
            ],
            "image/png": "[encoded data removed]"
          },
          "metadata": {}
        }
      ],
      "source": [
        "plt.plot(epochs, losses)\n",
        "plt.xlabel('época')"
      ]
    },
    {
      "cell_type": "markdown",
      "metadata": {
        "id": "eNyGHxAtl-fc"
      },
      "source": [
        "### Visualização usual da perda, somente no final de cada minibatch"
      ]
    },
    {
      "cell_type": "code",
      "execution_count": 24,
      "metadata": {
        "ExecuteTime": {
          "end_time": "2017-11-24T22:39:51.498640Z",
          "start_time": "2017-11-24T22:39:51.246714Z"
        },
        "colab": {
          "base_uri": "https://localhost:8080/",
          "height": 487
        },
        "id": "e2J2aZZVl-fd",
        "outputId": "b2a33763-0fc7-4ac7-83b7-102b6ddf511e"
      },
      "outputs": [
        {
          "output_type": "execute_result",
          "data": {
            "text/plain": [
              "Text(0.5, 0, 'época')"
            ]
          },
          "metadata": {},
          "execution_count": 24
        },
        {
          "output_type": "display_data",
          "data": {
            "text/plain": [
              "<Figure size 640x480 with 1 Axes>"
            ],
            "image/png": "[encoded data removed]"
          },
          "metadata": {}
        }
      ],
      "source": [
        "plt.plot(epochs[:5 * n_batches_train +1:n_batches_train], losses[:5 * n_batches_train+1:n_batches_train])\n",
        "plt.xlabel('época')"
      ]
    },
    {
      "cell_type": "markdown",
      "metadata": {
        "id": "eHLCXNLml-fg"
      },
      "source": [
        "# Atividades"
      ]
    },
    {
      "cell_type": "markdown",
      "metadata": {
        "id": "ZCs38MOml-fh"
      },
      "source": [
        "## Perguntas"
      ]
    },
    {
      "cell_type": "markdown",
      "metadata": {
        "id": "Ffg58gb7l-fi"
      },
      "source": [
        "1. Qual é o tamanho do mini-batch? R= 60\n",
        "2. Em uma época, quantos mini-batches existem?R= 60 batch por época\n",
        "3. Qual é a definição de época? R= Uma época é definida com o processo de passar todos os dados de treinamento por um modelo. Então uma época acaba quando todo aquele batch passa pelo modelo."
      ]
    },
    {
      "cell_type": "markdown",
      "metadata": {
        "id": "DourBpfrl-fl"
      },
      "source": [
        "## Exercícios\n"
      ]
    },
    {
      "cell_type": "markdown",
      "metadata": {
        "id": "Vjh3AaNpl-fn"
      },
      "source": [
        "1. Coloque um print no final de cada minibatch, no mesmo estilo do print do final de época, no seguinte estilo:\n",
        "    - Época: 1/4, batch: 600\n",
        "2. Altere o tamanho de minibatch (batch_size) algumas vezes, refaça o treinamento, e compare no gráfico abaixo a queda da perda para cada tamanho de minibatch."
      ]
    },
    {
      "cell_type": "markdown",
      "metadata": {
        "id": "Dite8MBJl-fn"
      },
      "source": [
        "## Conclusões sobre os experimentos deste notebook\n"
      ]
    }
  ],
  "metadata": {
    "accelerator": "GPU",
    "colab": {
      "provenance": [],
      "gpuType": "T4"
    },
    "kernelspec": {
      "display_name": "Python 3",
      "name": "python3"
    },
    "language_info": {
      "name": "python",
      "version": "3.10.2"
    },
    "vscode": {
      "interpreter": {
        "hash": "5fe3e6f0cdaab8afdc61c52912fda83f7c0a71baaea1897dd7498e2df01e69ec"
      }
    }
  },
  "nbformat": 4,
  "nbformat_minor": 0
}